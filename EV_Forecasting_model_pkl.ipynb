{
  "cells": [
    {
      "cell_type": "markdown",
      "metadata": {
        "id": "view-in-github",
        "colab_type": "text"
      },
      "source": [
        "<a href=\"https://colab.research.google.com/github/M-Raghavi/EV-Adoption-Forecasting/blob/main/EV_Forecasting_model_pkl.ipynb\" target=\"_parent\"><img src=\"https://colab.research.google.com/assets/colab-badge.svg\" alt=\"Open In Colab\"/></a>"
      ]
    },
    {
      "cell_type": "code",
      "source": [
        "import pickle\n",
        "import requests\n",
        "# RAW URL of your pickle file\n",
        "url = 'https://raw.githubusercontent.com/RGS-AI/AICTE_Internships/main/2025/July_2025/EV_Vehicle_Charge_Demand/forecasting_ev_model.pkl'\n",
        "# Download the pickle file\n",
        "response = requests.get(url)\n",
        "# Load the content using pickle\n",
        "model = pickle.loads(response.content)\n",
        "model\n"
      ],
      "metadata": {
        "colab": {
          "base_uri": "https://localhost:8080/"
        },
        "id": "ivHhyZzGSrkw",
        "outputId": "000e7bbd-5e22-441d-92b8-c945e1170b5f"
      },
      "execution_count": 4,
      "outputs": [
        {
          "output_type": "execute_result",
          "data": {
            "text/plain": [
              "array(['months_since_start', 'county_encoded', 'ev_total_lag1',\n",
              "       'ev_total_lag2', 'ev_total_lag3', 'ev_total_roll_mean_3',\n",
              "       'ev_total_pct_change_1', 'ev_total_pct_change_3',\n",
              "       'ev_growth_slope'], dtype=object)"
            ]
          },
          "metadata": {},
          "execution_count": 4
        }
      ]
    }
  ],
  "metadata": {
    "accelerator": "GPU",
    "colab": {
      "gpuType": "T4",
      "provenance": [],
      "include_colab_link": true
    },
    "kernelspec": {
      "display_name": "Python 3",
      "name": "python3"
    },
    "language_info": {
      "codemirror_mode": {
        "name": "ipython",
        "version": 3
      },
      "file_extension": ".py",
      "mimetype": "text/x-python",
      "name": "python",
      "nbconvert_exporter": "python",
      "pygments_lexer": "ipython3",
      "version": "3.12.8"
    }
  },
  "nbformat": 4,
  "nbformat_minor": 0
}